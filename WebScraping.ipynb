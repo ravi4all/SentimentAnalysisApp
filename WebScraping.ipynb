{
 "cells": [
  {
   "cell_type": "code",
   "execution_count": 1,
   "id": "28f911d9",
   "metadata": {},
   "outputs": [],
   "source": [
    "import bs4\n",
    "import urllib.request as url"
   ]
  },
  {
   "cell_type": "code",
   "execution_count": 2,
   "id": "c477fc54",
   "metadata": {},
   "outputs": [],
   "source": [
    "path = \"https://www.amazon.in/Apple-iPhone-13-128GB-Midnight/product-reviews/B09G9HD6PD/ref=cm_cr_dp_d_show_all_btm?ie=UTF8&reviewerType=all_reviews\""
   ]
  },
  {
   "cell_type": "code",
   "execution_count": 3,
   "id": "99162f08",
   "metadata": {},
   "outputs": [],
   "source": [
    "response = url.urlopen(path)"
   ]
  },
  {
   "cell_type": "code",
   "execution_count": 4,
   "id": "93e7e483",
   "metadata": {},
   "outputs": [
    {
     "data": {
      "text/plain": [
       "<http.client.HTTPResponse at 0x1200adf8910>"
      ]
     },
     "execution_count": 4,
     "metadata": {},
     "output_type": "execute_result"
    }
   ],
   "source": [
    "response"
   ]
  },
  {
   "cell_type": "code",
   "execution_count": 5,
   "id": "5eb0cf98",
   "metadata": {},
   "outputs": [],
   "source": [
    "page = bs4.BeautifulSoup(response)"
   ]
  },
  {
   "cell_type": "code",
   "execution_count": 6,
   "id": "5f90440b",
   "metadata": {},
   "outputs": [
    {
     "data": {
      "text/plain": [
       "<a class=\"a-size-base a-link-normal review-title a-color-base review-title-content a-text-bold\" data-hook=\"review-title\" href=\"/gp/customer-reviews/R35BGB3PKZS1Z4?ASIN=B09G9HD6PD\"><i class=\"a-icon a-icon-star a-star-5 review-rating\" data-hook=\"review-star-rating\"><span class=\"a-icon-alt\">5.0 out of 5 stars</span></i><span class=\"a-letter-space\"></span>\n",
       "<span>Awesome</span>\n",
       "</a>"
      ]
     },
     "execution_count": 6,
     "metadata": {},
     "output_type": "execute_result"
    }
   ],
   "source": [
    "page.find('a', {'class' : 'review-title'})"
   ]
  },
  {
   "cell_type": "code",
   "execution_count": 8,
   "id": "13f4a614",
   "metadata": {},
   "outputs": [
    {
     "name": "stdout",
     "output_type": "stream",
     "text": [
      "5.0 out of 5 stars\n",
      "Awesome\n",
      "\n"
     ]
    }
   ],
   "source": [
    "print(page.find('a', {'class' : 'review-title'}).text)"
   ]
  },
  {
   "cell_type": "code",
   "execution_count": 9,
   "id": "fa3cdee4",
   "metadata": {},
   "outputs": [],
   "source": [
    "reviews = page.find_all('a', {'class' : 'review-title'})"
   ]
  },
  {
   "cell_type": "code",
   "execution_count": 10,
   "id": "90c36f6f",
   "metadata": {},
   "outputs": [
    {
     "name": "stdout",
     "output_type": "stream",
     "text": [
      "5.0 out of 5 stars\n",
      "Awesome\n",
      "\n",
      "4.0 out of 5 stars\n",
      "Android to Apple Transition - Not a very smooth experience\n",
      "\n",
      "5.0 out of 5 stars\n",
      "Genuine iPhone\n",
      "\n",
      "4.0 out of 5 stars\n",
      "Brief buying experience including delivery experience\n",
      "\n",
      "5.0 out of 5 stars\n",
      "iPhone 13: A Month of Pure Excellence\n",
      "\n",
      "4.0 out of 5 stars\n",
      "Excellent Camera\n",
      "\n",
      "4.0 out of 5 stars\n",
      "After usage of 10 days\n",
      "\n",
      "5.0 out of 5 stars\n",
      "Nice phone with best battery\n",
      "\n",
      "5.0 out of 5 stars\n",
      "iPhone 13 128 GB\n",
      "\n",
      "5.0 out of 5 stars\n",
      "ONE OF THE BEST PHONES OUT THERE\n",
      "\n"
     ]
    }
   ],
   "source": [
    "for item in reviews:\n",
    "    print(item.text)"
   ]
  },
  {
   "cell_type": "code",
   "execution_count": null,
   "id": "f34d4f54",
   "metadata": {},
   "outputs": [],
   "source": []
  }
 ],
 "metadata": {
  "kernelspec": {
   "display_name": "Python 3 (ipykernel)",
   "language": "python",
   "name": "python3"
  },
  "language_info": {
   "codemirror_mode": {
    "name": "ipython",
    "version": 3
   },
   "file_extension": ".py",
   "mimetype": "text/x-python",
   "name": "python",
   "nbconvert_exporter": "python",
   "pygments_lexer": "ipython3",
   "version": "3.11.4"
  }
 },
 "nbformat": 4,
 "nbformat_minor": 5
}
